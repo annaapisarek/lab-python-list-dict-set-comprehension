{
 "cells": [
  {
   "cell_type": "markdown",
   "id": "25d7736c-ba17-4aff-b6bb-66eba20fbf4e",
   "metadata": {},
   "source": [
    "# Lab | List, Dict and Set Comprehension"
   ]
  },
  {
   "cell_type": "markdown",
   "id": "7dd3cbde-675a-4b81-92c3-f728846dbe06",
   "metadata": {},
   "source": [
    "## Exercise: Managing Customer Orders Optimized with Comprehension"
   ]
  },
  {
   "cell_type": "code",
   "execution_count": 33,
   "id": "c5dee60b-7e73-4bd2-a925-86aa195b67ee",
   "metadata": {
    "scrolled": true
   },
   "outputs": [
    {
     "name": "stdin",
     "output_type": "stream",
     "text": [
      "How many books do we have? 10\n",
      "Do you want to add another product? Yes/No no\n",
      "How many products do you want to order? 1\n",
      "What is the name of the product you want to order? book\n",
      "What is the number of products you want to order? 2\n"
     ]
    },
    {
     "name": "stdout",
     "output_type": "stream",
     "text": [
      "Total products ordered: 2\n",
      "Percentage of products ordered: 20.0\n"
     ]
    },
    {
     "name": "stdin",
     "output_type": "stream",
     "text": [
      "What is the price for book?  20\n"
     ]
    },
    {
     "name": "stdout",
     "output_type": "stream",
     "text": [
      "Total price: 40.0\n"
     ]
    },
    {
     "data": {
      "text/plain": [
       "{'book': 10}"
      ]
     },
     "execution_count": 33,
     "metadata": {},
     "output_type": "execute_result"
    }
   ],
   "source": [
    "#Review your code from the previous exercise and identify areas where you can apply comprehension to simplify and streamline your code.\n",
    "\n",
    "def initialize_inventory(product):\n",
    "    \"\"\"\n",
    "    First create the inventory. Then check what is the quantity of the product and add it to the inventory. Then enable user to add more products until they are done.\n",
    "    \"\"\"\n",
    "    inventory = {}\n",
    "    quantity = int(input(f\"How many {product}s do we have?\"))\n",
    "    inventory[product] = quantity\n",
    "    next_step = input(\"Do you want to add another product? Yes/No\").strip().lower()\n",
    "    while next_step == \"yes\":\n",
    "        product = input(\"What is the product name?\")\n",
    "        quantity = int(input(f\"How many {product}s do we have?\"))\n",
    "        inventory[product] = quantity\n",
    "        next_step = input(\"Do you want to add another product? Yes/No\")\n",
    "        if next_step != \"yes\":\n",
    "            break\n",
    "\n",
    "    return inventory\n",
    "\n",
    "def update_inventory(customer_orders, inventory):\n",
    "    inventory = {product: quantity - customer_orders.get(product, 0) for product, quantity in inventory.items() if quantity - customer_orders.get(product, 0) > 0}\n",
    "    return inventory\n",
    "\n",
    "\n",
    "def print_updated_inventory(inventory):\n",
    "    [print(item) for item in inventory]\n",
    "    return inventory\n",
    "\n",
    "#Modify the function get_customer_orders so it prompts the user to enter the number of customer orders and gathers the product names using a loop and user input. Use comprehension.\n",
    "\n",
    "def get_customer_orders():\n",
    "    n = int(input(\"How many products do you want to order?\")) \n",
    "    customer_orders = {(input(\"What is the name of the product you want to order?\")): int(input(\"What is the number of products you want to order?\")) for items in range(n)}\n",
    "    return customer_orders\n",
    "    print(customer_orders)\n",
    "\n",
    "#Calculate Statistics\n",
    "def calculate_order_statistics(customer_orders, inventory):\n",
    "    total_products_ordered = sum(customer_orders.values())\n",
    "    total_unique_products = sum(inventory.values())\n",
    "    percentage_of_product_ordered = (total_products_ordered / total_unique_products) * 100 if total_unique_products > 0 else 0\n",
    "\n",
    "    order_statistics = [total_products_ordered, percentage_of_product_ordered]\n",
    "    return order_statistics\n",
    "\n",
    "# Define a function named print_order_statistics that takes order_statistics as a parameter. Inside the function, implement the code for printing the order statistics.d\n",
    "def print_order_statistics(order_statistics):\n",
    "    print(f\"Total products ordered: {order_statistics[0]}\")\n",
    "    print(f\"Percentage of products ordered: {order_statistics[1]}\")\n",
    "#Add a new function to calculate the total price of the customer order. For each product in customer_orders, prompt the user to enter the price of that product. Use comprehension to calculate the total price. Note: assume that the user can only have 1 unit of each product.\n",
    "\n",
    "\n",
    "def total_price(customer_orders):\n",
    "    \n",
    "    prices = {product: float(input(f\"What is the price for {product}? \")) \n",
    "              for product in customer_orders.keys()}\n",
    "    \n",
    "   \n",
    "    total_price = sum(quantity * price for quantity, price in zip(customer_orders.values(), prices.values()))\n",
    "    \n",
    "    print(f\"Total price: {total_price}\")\n",
    "    return total_price\n",
    "\n",
    "#Modify the update_inventory function to remove the product from the inventory if its quantity becomes zero after fulfilling the customer orders. Use comprehension to filter out the products with a quantity of zero from the inventory.\n",
    "def update_inventory(customer_orders, inventory):\n",
    "    update_inventory = {product: quantity for product, quantity in inventory.items() if quantity > 0}\n",
    "    \n",
    "    key_value_pairs = [f\"{product}: {quantity}\" for product, quantity in inventory.items()]\n",
    "    return update_inventory\n",
    "    print(f\"Updated inventory: {key_value_pairs}\")\n",
    "\n",
    "#Print the total price of the customer order.\n",
    "def total_spend(total_price):\n",
    "    total_spend = total_price * total_products_ordered\n",
    "    return total_spend\n",
    "    print(f\"Total spend was: {total_spend}\")\n",
    "\n",
    "#test\n",
    "inventory = initialize_inventory(\"book\")\n",
    "customer_orders = get_customer_orders()\n",
    "updated_inventory = update_inventory(customer_orders, inventory)\n",
    "product = \"book\"\n",
    "order_stats = calculate_order_statistics(customer_orders, inventory)\n",
    "print_order_statistics(order_stats)\n",
    "total_products_ordered = 1\n",
    "total_price(customer_orders)\n",
    "total_spend(product)\n",
    "update_inventory(customer_orders, inventory)"
   ]
  },
  {
   "cell_type": "markdown",
   "id": "5d500160-2fb7-4777-b5e4-09d45ebaf328",
   "metadata": {},
   "source": [
    "In the previous exercise, you developed a program to manage customer orders and inventory. Now, let's take it a step further and incorporate comprehension into your code.\n",
    "\n",
    "Follow the steps below to complete the exercise:\n",
    "\n",
    "1. Review your code from the previous exercise and identify areas where you can apply comprehension to simplify and streamline your code. \n",
    "\n",
    "    - *Hint: Apply it to initialize inventory, updating the inventory and printing the updated inventory.*\n",
    "    \n",
    "    - For example, in initializing the inventory, we could have:\n",
    "    \n",
    "        ```python\n",
    "        def initialize_inventory(products):\n",
    "            inventory = {product: int(input(f\"Enter the quantity of {product}s available: \")) for product in products}\n",
    "            return inventory\n",
    "\n",
    "        ```\n",
    "<br>\n",
    "    \n",
    "    \n",
    "2. Modify the function get_customer_orders so it prompts the user to enter the number of customer orders and gathers the product names using a loop and user input. Use comprehension.\n",
    "\n",
    "3. Add a new function to calculate the total price of the customer order. For each product in customer_orders, prompt the user to enter the price of that product. Use comprehension to calculate the total price. Note: assume that the user can only have 1 unit of each product.\n",
    "\n",
    "4. Modify the update_inventory function to remove the product from the inventory if its quantity becomes zero after fulfilling the customer orders. Use comprehension to filter out the products with a quantity of zero from the inventory.\n",
    "\n",
    "5. Print the total price of the customer order.\n",
    "\n",
    "Your code should produce output similar to the following:\n",
    "\n",
    "```python\n",
    "Enter the quantity of t-shirts available:  5\n",
    "Enter the quantity of mugs available:  4\n",
    "Enter the quantity of hats available:  3\n",
    "Enter the quantity of books available:  2\n",
    "Enter the quantity of keychains available:  1\n",
    "Enter the number of customer orders:  2\n",
    "Enter the name of a product that a customer wants to order:  hat\n",
    "Enter the name of a product that a customer wants to order:  keychain\n",
    "\n",
    "Order Statistics:\n",
    "Total Products Ordered: 2\n",
    "Percentage of Unique Products Ordered: 40.0\n",
    "\n",
    "Updated Inventory:\n",
    "t-shirt: 5\n",
    "mug: 4\n",
    "hat: 2\n",
    "book: 2\n",
    "Enter the price of keychain:  5\n",
    "Enter the price of hat:  10\n",
    "Total Price: 15.0\n",
    "\n",
    "```\n",
    "\n"
   ]
  }
 ],
 "metadata": {
  "kernelspec": {
   "display_name": "Python 3 (ipykernel)",
   "language": "python",
   "name": "python3"
  },
  "language_info": {
   "codemirror_mode": {
    "name": "ipython",
    "version": 3
   },
   "file_extension": ".py",
   "mimetype": "text/x-python",
   "name": "python",
   "nbconvert_exporter": "python",
   "pygments_lexer": "ipython3",
   "version": "3.11.7"
  }
 },
 "nbformat": 4,
 "nbformat_minor": 5
}
